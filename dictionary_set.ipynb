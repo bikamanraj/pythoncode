{
 "cells": [
  {
   "cell_type": "code",
   "execution_count": 5,
   "metadata": {},
   "outputs": [
    {
     "ename": "SyntaxError",
     "evalue": "invalid syntax (<ipython-input-5-ab24a565f4d2>, line 1)",
     "output_type": "error",
     "traceback": [
      "\u001b[1;36m  File \u001b[1;32m\"<ipython-input-5-ab24a565f4d2>\"\u001b[1;36m, line \u001b[1;32m1\u001b[0m\n\u001b[1;33m    self = { 'name' : 'Manraj' , 'Qualification' : { 10 : '10 CGPA' , 12 : 86 , 'BTech : '7.2 CGPA'} , 'age' : 19 , 'countary' : 'India'}\u001b[0m\n\u001b[1;37m                                                                                            ^\u001b[0m\n\u001b[1;31mSyntaxError\u001b[0m\u001b[1;31m:\u001b[0m invalid syntax\n"
     ]
    }
   ],
   "source": [
    "self = { 'name' : 'Manraj' , 'Qualification' : { 10 : '10 CGPA' , 12 : 86 , 'BTech : '7.2 CGPA'} , 'age' : 19 , 'countary' : 'India'}\n",
    "self"
   ]
  },
  {
   "cell_type": "code",
   "execution_count": 9,
   "metadata": {},
   "outputs": [
    {
     "name": "stdout",
     "output_type": "stream",
     "text": [
      "{'datatypes': ['string', 'list', 'set', 'frozen set', 'dictionary', 'tuples'],\n",
      " 'launch_years': [1996, 2000, 2008]}\n"
     ]
    }
   ],
   "source": [
    "pyton = {\n",
    "    'datatypes' : ['string' , 'list' , 'set', 'frozen set' , 'dictionary' , 'tuples'] , \n",
    "    'launch_years' : [1996 , 2000 , 2008]}\n",
    "pyton\n",
    "from pprint import pprint  \n",
    "pprint(pyton)"
   ]
  },
  {
   "cell_type": "code",
   "execution_count": 1,
   "metadata": {},
   "outputs": [
    {
     "name": "stdout",
     "output_type": "stream",
     "text": [
      "Help on method_descriptor:\n",
      "\n",
      "setdefault(...)\n",
      "    D.setdefault(k[,d]) -> D.get(k,d), also set D[k]=d if k not in D\n",
      "\n"
     ]
    }
   ],
   "source": [
    "help(dict.setdefault)"
   ]
  },
  {
   "cell_type": "code",
   "execution_count": 24,
   "metadata": {},
   "outputs": [
    {
     "data": {
      "text/plain": [
       "{'acrylic': ['heavy body', 'students ', 'professionals'],\n",
       " 'oil-paints': ['students', 'professionala'],\n",
       " 'pastels': ['oil-pastels', 'soft-pastels', 'PanPastels', 'Pencil', 'hard'],\n",
       " 'pencils': {'shades': {'dark': ['10B', '8B', '6B', '4B', '2B'],\n",
       "   'light': ['2H', '3H', '4H', '5H', '6H']},\n",
       "  'colors': ['wax', 'oil', 'soft']},\n",
       " 'water colors': ['tubes', 'pens', 'student', 'professionals']}"
      ]
     },
     "execution_count": 24,
     "metadata": {},
     "output_type": "execute_result"
    }
   ],
   "source": [
    "colours = {\n",
    "    \"acrylic\" : [ \"heavy body\" , \"students \" , \"professionals\" ] ,\n",
    "    \"oil-paints\" : [  \"students\" , \"professionala\" ] , \n",
    "    \"pastels\" : [ \"oil-pastels\" , \"soft-pastels\" , \"PanPastels\", \"Pencil\" , \"hard\" ] ,\n",
    "    \"pencils\" : { \"shades\" : {\n",
    "                        'dark' : [ '10B' , '8B' , '6B' , '4B' , '2B']  ,\n",
    "                        'light' : [ '2H' , '3H' , '4H' , '5H' , '6H' ] } , \n",
    "                'colors' : ['wax', 'oil' , 'soft']\n",
    "                } ,\n",
    "    \"water colors\" : ['tubes' , 'pens' , 'student' , 'professionals']\n",
    "    }\n",
    "colours"
   ]
  },
  {
   "cell_type": "code",
   "execution_count": 26,
   "metadata": {},
   "outputs": [
    {
     "name": "stdout",
     "output_type": "stream",
     "text": [
      "{'parametes': [' 13*10', '12*6'],\n",
      " 'players': [{'all-rounder': ['defending', 'raidng'],\n",
      "              'defender': ['ankel hold',\n",
      "                           'thigh hold',\n",
      "                           'dash',\n",
      "                           'back hold',\n",
      "                           'tackle',\n",
      "                           'block',\n",
      "                           'chain'],\n",
      "              'raider': ['toe touch',\n",
      "                         'running hand touch',\n",
      "                         'safe raid',\n",
      "                         'tiger jump',\n",
      "                         'scorpion jump',\n",
      "                         'bonus']}],\n",
      " 'sections': ['adavance', 'bonus', 'buck', 'lobby'],\n",
      " 'umpire': ['referee', '2 umoire', 'scorer', '2 assistant']}\n"
     ]
    }
   ],
   "source": [
    "kabbadi = {\n",
    "    \"players\" : [\n",
    "        {'defender' : ['ankel hold', 'thigh hold' , 'dash' , 'back hold' , 'tackle' , 'block' , 'chain' ] , \n",
    "        'raider' : ['toe touch' , 'running hand touch' , 'safe raid' , 'tiger jump', 'scorpion jump' , 'bonus'] , \n",
    "         'all-rounder' : ['defending' , 'raidng']} ] ,\n",
    "    \"umpire\" : ['referee' , '2 umoire' ,'scorer' , '2 assistant'] , \n",
    "    \"sections\" : ['adavance' , 'bonus' , 'buck' , 'lobby'] , \n",
    "    \"parametes\" : [ ' 13*10' , '12*7']    \n",
    "}\n",
    "pprint(kabbadi)\n"
   ]
  },
  {
   "cell_type": "code",
   "execution_count": null,
   "metadata": {},
   "outputs": [],
   "source": []
  }
 ],
 "metadata": {
  "kernelspec": {
   "display_name": "Python 3",
   "language": "python",
   "name": "python3"
  },
  "language_info": {
   "codemirror_mode": {
    "name": "ipython",
    "version": 3
   },
   "file_extension": ".py",
   "mimetype": "text/x-python",
   "name": "python",
   "nbconvert_exporter": "python",
   "pygments_lexer": "ipython3",
   "version": "3.6.5"
  }
 },
 "nbformat": 4,
 "nbformat_minor": 2
}
